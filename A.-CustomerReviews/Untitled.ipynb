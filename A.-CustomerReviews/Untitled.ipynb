{
 "cells": [
  {
   "cell_type": "code",
   "execution_count": null,
   "id": "bc6cba12",
   "metadata": {},
   "outputs": [],
   "source": [
    "# BA\n",
    "An analysis of BA customer reviews, plus a model to predict if bookings will be completed.\n",
    "\n",
    "This repo contains:\n",
    "\n",
    "* An analysis of BA customer reviews scraped from [Skytrax](https://www.airlinequality.com/). This analysis comprises:\n",
    "  - Sentiment analysis\n",
    "  - Topic modeling\n",
    "  - Word Cloud\n",
    " \n",
    "* a predictive model to determine if bookings made by an airline customer will be completed or not\n"
   ]
  }
 ],
 "metadata": {
  "kernelspec": {
   "display_name": "Python 3 (ipykernel)",
   "language": "python",
   "name": "python3"
  },
  "language_info": {
   "codemirror_mode": {
    "name": "ipython",
    "version": 3
   },
   "file_extension": ".py",
   "mimetype": "text/x-python",
   "name": "python",
   "nbconvert_exporter": "python",
   "pygments_lexer": "ipython3",
   "version": "3.7.16"
  }
 },
 "nbformat": 4,
 "nbformat_minor": 5
}
