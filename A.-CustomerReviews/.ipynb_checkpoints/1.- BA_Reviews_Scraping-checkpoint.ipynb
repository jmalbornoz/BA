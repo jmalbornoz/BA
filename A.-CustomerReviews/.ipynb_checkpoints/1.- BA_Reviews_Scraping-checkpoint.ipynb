{
 "cells": [
  {
   "cell_type": "markdown",
   "id": "0887e86d",
   "metadata": {},
   "source": [
    "# British Airways customer reviews analysis: data scraping\n",
    "## Dr José M . Albornoz\n",
    "### February 2024"
   ]
  },
  {
   "cell_type": "markdown",
   "id": "39ea9ae3",
   "metadata": {},
   "source": [
    "The objective of this notebook is to scrape British Airways customer reviews data from [Skytrax](https://www.airlinequality.com/)."
   ]
  },
  {
   "cell_type": "markdown",
   "id": "fc62784c",
   "metadata": {},
   "source": [
    "# 0.- Imports"
   ]
  },
  {
   "cell_type": "code",
   "execution_count": 1,
   "id": "4f915cb7",
   "metadata": {},
   "outputs": [],
   "source": [
    "import requests\n",
    "from bs4 import BeautifulSoup\n",
    "from unicodedata import normalize"
   ]
  },
  {
   "cell_type": "markdown",
   "id": "5b959929",
   "metadata": {},
   "source": [
    "# 1.- Reviews retrieval"
   ]
  },
  {
   "cell_type": "code",
   "execution_count": 2,
   "id": "02f83f27",
   "metadata": {},
   "outputs": [],
   "source": [
    "url1 = 'https://www.airlinequality.com/airline-reviews/british-airways/page/'"
   ]
  },
  {
   "cell_type": "code",
   "execution_count": 3,
   "id": "ba46110e",
   "metadata": {},
   "outputs": [],
   "source": [
    "# number of pages\n",
    "numpages = 377"
   ]
  },
  {
   "cell_type": "code",
   "execution_count": 4,
   "id": "6aa8ffbf",
   "metadata": {},
   "outputs": [],
   "source": [
    "for page in range(1, numpages):\n",
    "    url2 = str(page) + '/'\n",
    "    url = url1 + url2\n",
    "    \n",
    "    # retrieve page\n",
    "    result = requests.get(url)\n",
    "    content = result.text\n",
    "    soup = BeautifulSoup(content, 'lxml')\n",
    "    raw_review = soup.find_all(\"div\", class_=\"text_content\")\n",
    "    \n",
    "    # extract text\n",
    "    review = [r.get_text() for r in raw_review]\n",
    "    \n",
    "    # remove non-ascii characters\n",
    "    review = [str(normalize('NFD', rev).encode('ascii','ignore')) for rev in review]\n",
    "    \n",
    "    if page == 1:\n",
    "        reviews = review\n",
    "    else:\n",
    "        reviews = reviews + review"
   ]
  },
  {
   "cell_type": "code",
   "execution_count": 5,
   "id": "498f5501",
   "metadata": {},
   "outputs": [
    {
     "data": {
      "text/plain": [
       "3752"
      ]
     },
     "execution_count": 5,
     "metadata": {},
     "output_type": "execute_result"
    }
   ],
   "source": [
    "len(reviews)"
   ]
  },
  {
   "cell_type": "markdown",
   "id": "4223abdb",
   "metadata": {},
   "source": [
    "# 2.- Save reviews to disk"
   ]
  },
  {
   "cell_type": "code",
   "execution_count": 6,
   "id": "74744bda",
   "metadata": {},
   "outputs": [],
   "source": [
    "with open('data/reviews.txt', 'w') as f:\n",
    "    for line in reviews:\n",
    "        f.write(f\"{line}\\n\")"
   ]
  }
 ],
 "metadata": {
  "kernelspec": {
   "display_name": "Python 3 (ipykernel)",
   "language": "python",
   "name": "python3"
  },
  "language_info": {
   "codemirror_mode": {
    "name": "ipython",
    "version": 3
   },
   "file_extension": ".py",
   "mimetype": "text/x-python",
   "name": "python",
   "nbconvert_exporter": "python",
   "pygments_lexer": "ipython3",
   "version": "3.7.16"
  }
 },
 "nbformat": 4,
 "nbformat_minor": 5
}
