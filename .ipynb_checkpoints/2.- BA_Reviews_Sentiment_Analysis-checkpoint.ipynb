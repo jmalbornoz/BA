{
 "cells": [
  {
   "cell_type": "markdown",
   "id": "ebf91609",
   "metadata": {},
   "source": [
    "# British Airways customer reviews analysis: sentiment analysis\n",
    "## Dr José M Albornoz\n",
    "### February 2024"
   ]
  },
  {
   "cell_type": "markdown",
   "id": "f11db66d",
   "metadata": {},
   "source": [
    "In this notebook we will perform sentiment analysis on the BA customer reviews data using a (state of the art model)[https://huggingface.co/sohan-ai/sentiment-analysis-model-amazon-reviews] that has been pre-trained using Amazon customer reviews. "
   ]
  },
  {
   "cell_type": "markdown",
   "id": "21a53104-d835-4066-b16d-6f62fc6a50e4",
   "metadata": {},
   "source": [
    "# 0.- Imports"
   ]
  },
  {
   "cell_type": "code",
   "execution_count": 1,
   "id": "9d575735",
   "metadata": {},
   "outputs": [],
   "source": [
    "from transformers import DistilBertTokenizer, DistilBertForSequenceClassification\n",
    "import numpy as np"
   ]
  },
  {
   "cell_type": "markdown",
   "id": "cfb6f71f-4e16-429d-9ed3-7e95b3eac325",
   "metadata": {},
   "source": [
    "# 1.- Read reviews data"
   ]
  },
  {
   "cell_type": "code",
   "execution_count": 2,
   "id": "4ac86d7e",
   "metadata": {},
   "outputs": [],
   "source": [
    "with open('data/reviews.txt', 'r') as f:\n",
    "    reviews = f.readlines()"
   ]
  },
  {
   "cell_type": "code",
   "execution_count": 3,
   "id": "2aa5bc21",
   "metadata": {},
   "outputs": [
    {
     "data": {
      "text/plain": [
       "3752"
      ]
     },
     "execution_count": 3,
     "metadata": {},
     "output_type": "execute_result"
    }
   ],
   "source": [
    "numreviews = len(reviews)\n",
    "numreviews"
   ]
  },
  {
   "cell_type": "markdown",
   "id": "b68e0fad",
   "metadata": {},
   "source": [
    "# 2.- Data cleansing"
   ]
  },
  {
   "cell_type": "markdown",
   "id": "db3ed5bc",
   "metadata": {},
   "source": [
    "We will remove new line characters at the end of each review, as well as `b\\'` at the beginning of the review."
   ]
  },
  {
   "cell_type": "code",
   "execution_count": 4,
   "id": "159a8b7e",
   "metadata": {},
   "outputs": [],
   "source": [
    "for k in range(numreviews):\n",
    "    reviews[k] = reviews[k].replace(\"'\\n\", '').replace(\"b'\", '')"
   ]
  },
  {
   "cell_type": "markdown",
   "id": "bd1b8c59",
   "metadata": {},
   "source": [
    "# 3.- Sentiment analysis"
   ]
  },
  {
   "cell_type": "code",
   "execution_count": 5,
   "id": "76528c40",
   "metadata": {},
   "outputs": [],
   "source": [
    "model_name = \"sohan-ai/sentiment-analysis-model-amazon-reviews\"\n",
    "tokenizer = DistilBertTokenizer.from_pretrained(\"distilbert-base-uncased\")\n",
    "model = DistilBertForSequenceClassification.from_pretrained(model_name)"
   ]
  },
  {
   "cell_type": "code",
   "execution_count": 6,
   "id": "680ab808",
   "metadata": {},
   "outputs": [],
   "source": [
    "sentiment = []\n",
    "for k in range(numreviews):\n",
    "    \n",
    "    temp = reviews[k]\n",
    "       \n",
    "    inputs = tokenizer(reviews[k], return_tensors=\"pt\", truncation=True, padding=True)\n",
    "        \n",
    "    outputs = model(**inputs)\n",
    "    \n",
    "    predicted_label = \"positive\" if outputs.logits.argmax().item() == 1 else \"negative\"\n",
    "    \n",
    "    sentiment.append(predicted_label)"
   ]
  },
  {
   "cell_type": "markdown",
   "id": "551ab453",
   "metadata": {},
   "source": [
    "We now can calculate percentages of negative and positive reviews for BA."
   ]
  },
  {
   "cell_type": "code",
   "execution_count": 7,
   "id": "f7ef91b2",
   "metadata": {},
   "outputs": [],
   "source": [
    "a, b = np.unique(sentiment, return_counts=True)"
   ]
  },
  {
   "cell_type": "code",
   "execution_count": 8,
   "id": "cf1515b1",
   "metadata": {},
   "outputs": [
    {
     "data": {
      "text/plain": [
       "array(['negative', 'positive'], dtype='<U8')"
      ]
     },
     "execution_count": 8,
     "metadata": {},
     "output_type": "execute_result"
    }
   ],
   "source": [
    "a"
   ]
  },
  {
   "cell_type": "code",
   "execution_count": 9,
   "id": "2ad67647",
   "metadata": {},
   "outputs": [
    {
     "data": {
      "text/plain": [
       "array([2449, 1303], dtype=int64)"
      ]
     },
     "execution_count": 9,
     "metadata": {},
     "output_type": "execute_result"
    }
   ],
   "source": [
    "b"
   ]
  },
  {
   "cell_type": "code",
   "execution_count": 10,
   "id": "badf85ed",
   "metadata": {},
   "outputs": [],
   "source": [
    "tot_reviews = b[0] + b[1]"
   ]
  },
  {
   "cell_type": "code",
   "execution_count": 11,
   "id": "1b433942",
   "metadata": {},
   "outputs": [
    {
     "data": {
      "text/plain": [
       "3752"
      ]
     },
     "execution_count": 11,
     "metadata": {},
     "output_type": "execute_result"
    }
   ],
   "source": [
    "tot_reviews"
   ]
  },
  {
   "cell_type": "code",
   "execution_count": 13,
   "id": "8012053f",
   "metadata": {},
   "outputs": [
    {
     "data": {
      "text/plain": [
       "34.72814498933902"
      ]
     },
     "execution_count": 13,
     "metadata": {},
     "output_type": "execute_result"
    }
   ],
   "source": [
    "positive_percentage = b[1]*100/tot_reviews\n",
    "positive_percentage"
   ]
  },
  {
   "cell_type": "code",
   "execution_count": 14,
   "id": "6495c211",
   "metadata": {},
   "outputs": [
    {
     "data": {
      "text/plain": [
       "65.27185501066099"
      ]
     },
     "execution_count": 14,
     "metadata": {},
     "output_type": "execute_result"
    }
   ],
   "source": [
    "negative_percentage = b[0]*100/tot_reviews\n",
    "negative_percentage"
   ]
  },
  {
   "cell_type": "code",
   "execution_count": null,
   "id": "c0a54d48",
   "metadata": {},
   "outputs": [],
   "source": []
  }
 ],
 "metadata": {
  "kernelspec": {
   "display_name": "Python 3 (ipykernel)",
   "language": "python",
   "name": "python3"
  },
  "language_info": {
   "codemirror_mode": {
    "name": "ipython",
    "version": 3
   },
   "file_extension": ".py",
   "mimetype": "text/x-python",
   "name": "python",
   "nbconvert_exporter": "python",
   "pygments_lexer": "ipython3",
   "version": "3.7.16"
  }
 },
 "nbformat": 4,
 "nbformat_minor": 5
}
